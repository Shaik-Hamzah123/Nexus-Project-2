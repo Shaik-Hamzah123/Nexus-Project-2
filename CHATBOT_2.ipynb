{
  "nbformat": 4,
  "nbformat_minor": 0,
  "metadata": {
    "colab": {
      "provenance": []
    },
    "kernelspec": {
      "name": "python3",
      "display_name": "Python 3"
    },
    "language_info": {
      "name": "python"
    }
  },
  "cells": [
    {
      "cell_type": "code",
      "execution_count": 29,
      "metadata": {
        "id": "dm7KTwiA3Vmt"
      },
      "outputs": [],
      "source": [
        "import numpy as np\n",
        "import nltk\n",
        "import string\n",
        "import random"
      ]
    },
    {
      "cell_type": "code",
      "source": [
        "f = open('/content/data.txt','r',errors='ignore')\n",
        "raw_doc = f.read()"
      ],
      "metadata": {
        "id": "a7eYj_Oa6kbe"
      },
      "execution_count": 30,
      "outputs": []
    },
    {
      "cell_type": "code",
      "source": [
        "raw_doc"
      ],
      "metadata": {
        "colab": {
          "base_uri": "https://localhost:8080/",
          "height": 244
        },
        "id": "uVhCyTu37Tis",
        "outputId": "2f6924c6-121c-4e4d-a048-6f5d395ee10d"
      },
      "execution_count": 31,
      "outputs": [
        {
          "output_type": "execute_result",
          "data": {
            "text/plain": [
              "'Our college requires completion of high school or equivalent, submission of official transcripts, standardized test scores (SAT or ACT), letters of recommendation, and a personal statement or essay.\\nTo apply, visit our college website and complete the online application form. Ensure all required documents, such as transcripts and test scores, are submitted before the application deadline.\\nOur college offers a wide range of majors and programs across various disciplines including Engineering, Computer Science, Business Administration, Liberal Arts, Health Sciences, and more. You can find detailed information on our website.\\nOur tuition fees vary based on the program and residency status. For specific details, please refer to our college website or contact our admissions office.\\nYes, we offer various scholarships and financial aid opportunities for eligible students based on academic achievement, extracurricular activities, and financial need. Information about scholarships is available on our website.\\nOur college provides a vibrant campus life with diverse clubs, organizations, and extracurricular activities. We have state-of-the-art facilities, student support services, and a range of events to enrich the student experience.\\nAbsolutely! You can schedule a campus tour or attend information sessions through our college website. These opportunities allow you to explore our campus, meet faculty, and learn more about the college.\\nYou can contact our admissions office via phone at [Phone Number] or by email at [Email Address]. Our admissions counselors are available to assist you with any questions or concerns you may have regarding the admission process.\\nOur college has specific application deadlines for each term. Please visit our website or contact the admissions office to get the current application deadline for the term you are interested in.\\nYes, our college requires an application fee for processing applications. The fee amount and payment methods can be found on our website or within the online application portal.\\nYes, we accept transfer credits from accredited institutions. The acceptance of transfer credits is subject to evaluation and approval by our academic department based on course equivalency.\\nYes, we provide on-campus housing facilities for students. Our dormitories offer various accommodation options, amenities, and a supportive community environment.\\nOur college maintains a low student-faculty ratio, allowing for more personalized attention and interaction between students and faculty members. The specific ratio can be found on our website.\\nAbsolutely! We welcome international students. Our college offers support services and resources for international applicants to facilitate the admissions process and transition to college life.\\nOur college provides a wide range of extracurricular activities including sports teams, cultural clubs, academic organizations, volunteering opportunities, and more. Students can explore and engage in activities that match their interests.\\nYes, we have academic advisors who assist students with course selection, academic planning, and provide guidance throughout their academic journey at our college.\\nThe safety and security of our students are a top priority. We have campus security measures in place, including security personnel, emergency response protocols, and safety programs to ensure a safe learning environment.\\nOur college stands out for its diverse and inclusive community, exceptional faculty, cutting-edge research opportunities, strong academic programs, and commitment to student success.\\n'"
            ],
            "application/vnd.google.colaboratory.intrinsic+json": {
              "type": "string"
            }
          },
          "metadata": {},
          "execution_count": 31
        }
      ]
    },
    {
      "cell_type": "code",
      "source": [
        "raw_doc = raw_doc.lower()\n",
        "nltk.download('punkt')\n",
        "nltk.download('wordnet')\n",
        "nltk.download('omw-1.4')\n",
        "sentence_tokens = nltk.sent_tokenize(raw_doc)\n",
        "word_tokens = nltk.word_tokenize(raw_doc)"
      ],
      "metadata": {
        "colab": {
          "base_uri": "https://localhost:8080/"
        },
        "id": "gpPOe8Jz61_j",
        "outputId": "9418bb2a-cb44-41b4-c542-528235915734"
      },
      "execution_count": 32,
      "outputs": [
        {
          "output_type": "stream",
          "name": "stderr",
          "text": [
            "[nltk_data] Downloading package punkt to /root/nltk_data...\n",
            "[nltk_data]   Package punkt is already up-to-date!\n",
            "[nltk_data] Downloading package wordnet to /root/nltk_data...\n",
            "[nltk_data]   Package wordnet is already up-to-date!\n",
            "[nltk_data] Downloading package omw-1.4 to /root/nltk_data...\n",
            "[nltk_data]   Package omw-1.4 is already up-to-date!\n"
          ]
        }
      ]
    },
    {
      "cell_type": "code",
      "source": [
        "sentence_tokens[:5]"
      ],
      "metadata": {
        "colab": {
          "base_uri": "https://localhost:8080/"
        },
        "id": "x-VspNeY7NxN",
        "outputId": "d055074d-3793-4bed-9c72-ac59288d07b5"
      },
      "execution_count": 33,
      "outputs": [
        {
          "output_type": "execute_result",
          "data": {
            "text/plain": [
              "['our college requires completion of high school or equivalent, submission of official transcripts, standardized test scores (sat or act), letters of recommendation, and a personal statement or essay.',\n",
              " 'to apply, visit our college website and complete the online application form.',\n",
              " 'ensure all required documents, such as transcripts and test scores, are submitted before the application deadline.',\n",
              " 'our college offers a wide range of majors and programs across various disciplines including engineering, computer science, business administration, liberal arts, health sciences, and more.',\n",
              " 'you can find detailed information on our website.']"
            ]
          },
          "metadata": {},
          "execution_count": 33
        }
      ]
    },
    {
      "cell_type": "code",
      "source": [
        "lemmer = nltk.stem.WordNetLemmatizer()\n",
        "def Lemtoken(tokens):\n",
        "  return [lemmer.lemmatize(token) for token in tokens]\n",
        "remove_punc_dict = dict((ord(punct), None) for punct in string.punctuation)\n",
        "def Lemnormal(text):\n",
        "  return Lemtoken(nltk.word_tokenize(text.lower().translate(remove_punc_dict)))"
      ],
      "metadata": {
        "id": "dNuyrHJf89uO"
      },
      "execution_count": 34,
      "outputs": []
    },
    {
      "cell_type": "code",
      "source": [
        "greetings = ('hello', 'hi', 'hey', 'yoohoo', 'whassup', 'bonjour', 'how are you')\n",
        "g_res = ('hi', 'hey', 'heya', 'yo')\n",
        "def greet(sentence):\n",
        "  for word in sentence.split():\n",
        "    if word.lower() in greetings:\n",
        "      return random.choice(g_res)"
      ],
      "metadata": {
        "id": "VQTdWZBt9Czx"
      },
      "execution_count": 35,
      "outputs": []
    },
    {
      "cell_type": "code",
      "source": [
        "!pip install scikit-learn"
      ],
      "metadata": {
        "colab": {
          "base_uri": "https://localhost:8080/"
        },
        "id": "km9zlGY2Aeij",
        "outputId": "4f9ef5b7-1ee4-45be-ebe9-8a3a31edc969"
      },
      "execution_count": 36,
      "outputs": [
        {
          "output_type": "stream",
          "name": "stdout",
          "text": [
            "Requirement already satisfied: scikit-learn in /usr/local/lib/python3.10/dist-packages (1.2.2)\n",
            "Requirement already satisfied: numpy>=1.17.3 in /usr/local/lib/python3.10/dist-packages (from scikit-learn) (1.23.5)\n",
            "Requirement already satisfied: scipy>=1.3.2 in /usr/local/lib/python3.10/dist-packages (from scikit-learn) (1.11.4)\n",
            "Requirement already satisfied: joblib>=1.1.1 in /usr/local/lib/python3.10/dist-packages (from scikit-learn) (1.3.2)\n",
            "Requirement already satisfied: threadpoolctl>=2.0.0 in /usr/local/lib/python3.10/dist-packages (from scikit-learn) (3.2.0)\n"
          ]
        }
      ]
    },
    {
      "cell_type": "code",
      "source": [
        "!pip install podium_nlp"
      ],
      "metadata": {
        "colab": {
          "base_uri": "https://localhost:8080/"
        },
        "id": "_ChEPjWCC-f2",
        "outputId": "d19d6617-98e9-4525-fd53-d69112b59e19"
      },
      "execution_count": 37,
      "outputs": [
        {
          "output_type": "stream",
          "name": "stdout",
          "text": [
            "Requirement already satisfied: podium_nlp in /usr/local/lib/python3.10/dist-packages (0.1.1)\n",
            "Requirement already satisfied: dill in /usr/local/lib/python3.10/dist-packages (from podium_nlp) (0.3.7)\n",
            "Requirement already satisfied: nltk<3.6,>=3.0 in /usr/local/lib/python3.10/dist-packages (from podium_nlp) (3.5)\n",
            "Requirement already satisfied: paramiko in /usr/local/lib/python3.10/dist-packages (from podium_nlp) (3.4.0)\n",
            "Requirement already satisfied: requests in /usr/local/lib/python3.10/dist-packages (from podium_nlp) (2.31.0)\n",
            "Requirement already satisfied: scikit-learn in /usr/local/lib/python3.10/dist-packages (from podium_nlp) (1.2.2)\n",
            "Requirement already satisfied: tqdm in /usr/local/lib/python3.10/dist-packages (from podium_nlp) (4.66.1)\n",
            "Requirement already satisfied: numpy in /usr/local/lib/python3.10/dist-packages (from podium_nlp) (1.23.5)\n",
            "Requirement already satisfied: pandas in /usr/local/lib/python3.10/dist-packages (from podium_nlp) (1.5.3)\n",
            "Requirement already satisfied: scipy in /usr/local/lib/python3.10/dist-packages (from podium_nlp) (1.11.4)\n",
            "Requirement already satisfied: click in /usr/local/lib/python3.10/dist-packages (from nltk<3.6,>=3.0->podium_nlp) (8.1.7)\n",
            "Requirement already satisfied: joblib in /usr/local/lib/python3.10/dist-packages (from nltk<3.6,>=3.0->podium_nlp) (1.3.2)\n",
            "Requirement already satisfied: regex in /usr/local/lib/python3.10/dist-packages (from nltk<3.6,>=3.0->podium_nlp) (2023.6.3)\n",
            "Requirement already satisfied: python-dateutil>=2.8.1 in /usr/local/lib/python3.10/dist-packages (from pandas->podium_nlp) (2.8.2)\n",
            "Requirement already satisfied: pytz>=2020.1 in /usr/local/lib/python3.10/dist-packages (from pandas->podium_nlp) (2023.3.post1)\n",
            "Requirement already satisfied: bcrypt>=3.2 in /usr/local/lib/python3.10/dist-packages (from paramiko->podium_nlp) (4.1.2)\n",
            "Requirement already satisfied: cryptography>=3.3 in /usr/local/lib/python3.10/dist-packages (from paramiko->podium_nlp) (41.0.7)\n",
            "Requirement already satisfied: pynacl>=1.5 in /usr/local/lib/python3.10/dist-packages (from paramiko->podium_nlp) (1.5.0)\n",
            "Requirement already satisfied: charset-normalizer<4,>=2 in /usr/local/lib/python3.10/dist-packages (from requests->podium_nlp) (3.3.2)\n",
            "Requirement already satisfied: idna<4,>=2.5 in /usr/local/lib/python3.10/dist-packages (from requests->podium_nlp) (3.6)\n",
            "Requirement already satisfied: urllib3<3,>=1.21.1 in /usr/local/lib/python3.10/dist-packages (from requests->podium_nlp) (2.0.7)\n",
            "Requirement already satisfied: certifi>=2017.4.17 in /usr/local/lib/python3.10/dist-packages (from requests->podium_nlp) (2023.11.17)\n",
            "Requirement already satisfied: threadpoolctl>=2.0.0 in /usr/local/lib/python3.10/dist-packages (from scikit-learn->podium_nlp) (3.2.0)\n",
            "Requirement already satisfied: cffi>=1.12 in /usr/local/lib/python3.10/dist-packages (from cryptography>=3.3->paramiko->podium_nlp) (1.16.0)\n",
            "Requirement already satisfied: six>=1.5 in /usr/local/lib/python3.10/dist-packages (from python-dateutil>=2.8.1->pandas->podium_nlp) (1.16.0)\n",
            "Requirement already satisfied: pycparser in /usr/local/lib/python3.10/dist-packages (from cffi>=1.12->cryptography>=3.3->paramiko->podium_nlp) (2.21)\n"
          ]
        }
      ]
    },
    {
      "cell_type": "code",
      "source": [
        "from sklearn.feature_extraction.text import TfidfVectorizer\n",
        "from podium.vectorizers import TfIdfVectorizer\n",
        "from sklearn.metrics.pairwise import cosine_similarity"
      ],
      "metadata": {
        "id": "m1CZYFYv-5nY"
      },
      "execution_count": 38,
      "outputs": []
    },
    {
      "cell_type": "code",
      "source": [
        "def response(user_reponse):\n",
        "  robo_seq = ''\n",
        "  TfidfVec = TfidfVectorizer(tokenizer = Lemnormal, stop_words='english')\n",
        "  tfidf = TfidfVec.fit_transform(sentence_tokens)\n",
        "  vals = cosine_similarity(tfidf[-1], tfidf)\n",
        "  idx = vals.argsort()[0][-2]\n",
        "  flat = vals.flatten()\n",
        "  flat.sort()\n",
        "  req_tfidf = flat[-2]\n",
        "  if (req_tfidf == 0):\n",
        "    robo_seq = robo_seq+\"I'm sorry, Can't comprehend\"\n",
        "    return robo_seq\n",
        "  else:\n",
        "    robo_seq = robo_seq+sentence_tokens[idx]\n",
        "    return robo_seq\n"
      ],
      "metadata": {
        "id": "owp_SFLcATqL"
      },
      "execution_count": 39,
      "outputs": []
    },
    {
      "cell_type": "code",
      "source": [
        "flag = True\n",
        "print(\"Yellow! I'm your academic BOTTY, tell me how I can help you?\")\n",
        "while (flag==True):\n",
        "  user_response = input()\n",
        "  user_response = user_response.lower()\n",
        "  if(user_response != 'bye'):\n",
        "    if(user_response == 'thank you' or user_response=='thanks'):\n",
        "      flag=True\n",
        "      print(\"BOTTY: You are welcome :)\")\n",
        "    else:\n",
        "      if(greet(user_response) != None):\n",
        "        print('Botty: '+greet(user_response))\n",
        "      else:\n",
        "        sentence_tokens.append(user_response)\n",
        "        word_tokens = word_tokens + nltk.word_tokenize(user_response)\n",
        "        final_words = list(set(word_tokens))\n",
        "        print('Botty: ', end='')\n",
        "        print(response(user_response))\n",
        "        sentence_tokens.remove(user_response)\n",
        "  else:\n",
        "    flag = False\n",
        "    print('Botty: Buh Bye')"
      ],
      "metadata": {
        "colab": {
          "base_uri": "https://localhost:8080/"
        },
        "id": "OuiLk3LuEpET",
        "outputId": "d78f596c-ae48-4eff-9a2c-18d50c40e3d1"
      },
      "execution_count": 40,
      "outputs": [
        {
          "output_type": "stream",
          "name": "stdout",
          "text": [
            "Yellow! I'm your academic BOTTY, tell me how I can help you?\n",
            "hey\n",
            "Botty: hi\n",
            "when is the deadline?\n",
            "Botty: our college has specific application deadlines for each term.\n",
            "how to apply for this college?\n",
            "Botty: to apply, visit our college website and complete the online application form.\n",
            "when can I do a campus tour?\n",
            "Botty: you can schedule a campus tour or attend information sessions through our college website.\n",
            "is the campus safe?\n",
            "Botty: we have campus security measures in place, including security personnel, emergency response protocols, and safety programs to ensure a safe learning environment.\n",
            "do you take in international students?\n",
            "Botty: we welcome international students.\n",
            "do you have dormitories?\n",
            "Botty: our dormitories offer various accommodation options, amenities, and a supportive community environment.\n",
            "how are the tuition fees?\n",
            "Botty: our tuition fees vary based on the program and residency status.\n",
            "do you happen to have clubs?\n",
            "Botty: our college provides a vibrant campus life with diverse clubs, organizations, and extracurricular activities.\n",
            "byw\n",
            "Botty: I'm sorry, Can't comprehend\n",
            "bye\n",
            "Botty: Buh Bye\n"
          ]
        }
      ]
    },
    {
      "cell_type": "code",
      "source": [],
      "metadata": {
        "id": "luXWo1r8Icg-"
      },
      "execution_count": 40,
      "outputs": []
    }
  ]
}